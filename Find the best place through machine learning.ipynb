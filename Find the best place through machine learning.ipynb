{
 "cells": [
  {
   "cell_type": "markdown",
   "metadata": {},
   "source": [
    " # Finding the best place for a new well through machine learning"
   ]
  },
  {
   "cell_type": "markdown",
   "metadata": {},
   "source": [
    "We work for 'OilyGiant mining company'. Our task is to find the best place for a new well."
   ]
  },
  {
   "cell_type": "markdown",
   "metadata": {},
   "source": [
    "## Contents <a id='back'></a>"
   ]
  },
  {
   "cell_type": "markdown",
   "metadata": {},
   "source": [
    "* [Intro](#intro)\n",
    "* [Stage 1. Data loading](#1)\n",
    "    * [1.1 Data exploration](#1.1)\n",
    "    * [1.2 Graphical data exploration](#1.2)\n",
    "* [Stage 2. Data preprocessing](#2)\n",
    "* [Stage 3. Model training](#3)\n",
    "* [Stage 4. Margin calculation](#4)\n",
    "* [Stage 5. Risks and profit calculation](#5)\n",
    "* [Conclusion](#conclusion)"
   ]
  },
  {
   "cell_type": "markdown",
   "metadata": {},
   "source": [
    "## Introduction <a id='intro'></a>"
   ]
  },
  {
   "cell_type": "markdown",
   "metadata": {},
   "source": [
    "We have data of oil wells in three regions. The parameters of each oil well in the regions are already known. The goal is to create a model that helps to choose the region with the highest profit margin and analyzing potential benefits and risks using the bootstrapping technique."
   ]
  },
  {
   "cell_type": "markdown",
   "metadata": {},
   "source": [
    "## Stage 1. Data loading <a id='1'></a>"
   ]
  },
  {
   "cell_type": "code",
   "execution_count": 1,
   "metadata": {},
   "outputs": [],
   "source": [
    "# General libraries\n",
    "import pandas as pd\n",
    "import numpy as np\n",
    "import seaborn as sns\n",
    "import matplotlib.pyplot as plt\n",
    "\n",
    "# Machine learning libraries\n",
    "from sklearn.model_selection import train_test_split\n",
    "from sklearn.linear_model import LinearRegression\n",
    "from sklearn.metrics import mean_squared_error"
   ]
  },
  {
   "cell_type": "code",
   "execution_count": 2,
   "metadata": {},
   "outputs": [],
   "source": [
    "# Load the data files into DataFrame\n",
    "try:\n",
    "    df_0 = pd.read_csv('https://code.s3.yandex.net/datasets/geo_data_0.csv')\n",
    "    df_1 = pd.read_csv('https://code.s3.yandex.net/datasets/geo_data_1.csv')\n",
    "    df_2 = pd.read_csv('https://code.s3.yandex.net/datasets/geo_data_2.csv')\n",
    "except:\n",
    "    df_0 = pd.read_csv('/datasets/geo_data_0.csv')\n",
    "    df_1 = pd.read_csv('/datasets/geo_data_1.csv')\n",
    "    df_2 = pd.read_csv('/datasets/geo_data_2.csv')"
   ]
  },
  {
   "cell_type": "markdown",
   "metadata": {},
   "source": [
    "### 1.1 Data exploration <a id='1.1'></a>"
   ]
  },
  {
   "cell_type": "code",
   "execution_count": 3,
   "metadata": {},
   "outputs": [
    {
     "name": "stdout",
     "output_type": "stream",
     "text": [
      "<class 'pandas.core.frame.DataFrame'>\n",
      "RangeIndex: 100000 entries, 0 to 99999\n",
      "Data columns (total 5 columns):\n",
      " #   Column   Non-Null Count   Dtype  \n",
      "---  ------   --------------   -----  \n",
      " 0   id       100000 non-null  object \n",
      " 1   f0       100000 non-null  float64\n",
      " 2   f1       100000 non-null  float64\n",
      " 3   f2       100000 non-null  float64\n",
      " 4   product  100000 non-null  float64\n",
      "dtypes: float64(4), object(1)\n",
      "memory usage: 3.8+ MB\n"
     ]
    },
    {
     "data": {
      "text/html": [
       "<div>\n",
       "<style scoped>\n",
       "    .dataframe tbody tr th:only-of-type {\n",
       "        vertical-align: middle;\n",
       "    }\n",
       "\n",
       "    .dataframe tbody tr th {\n",
       "        vertical-align: top;\n",
       "    }\n",
       "\n",
       "    .dataframe thead th {\n",
       "        text-align: right;\n",
       "    }\n",
       "</style>\n",
       "<table border=\"1\" class=\"dataframe\">\n",
       "  <thead>\n",
       "    <tr style=\"text-align: right;\">\n",
       "      <th></th>\n",
       "      <th>id</th>\n",
       "      <th>f0</th>\n",
       "      <th>f1</th>\n",
       "      <th>f2</th>\n",
       "      <th>product</th>\n",
       "    </tr>\n",
       "  </thead>\n",
       "  <tbody>\n",
       "    <tr>\n",
       "      <th>0</th>\n",
       "      <td>txEyH</td>\n",
       "      <td>0.705745</td>\n",
       "      <td>-0.497823</td>\n",
       "      <td>1.221170</td>\n",
       "      <td>105.280062</td>\n",
       "    </tr>\n",
       "    <tr>\n",
       "      <th>1</th>\n",
       "      <td>2acmU</td>\n",
       "      <td>1.334711</td>\n",
       "      <td>-0.340164</td>\n",
       "      <td>4.365080</td>\n",
       "      <td>73.037750</td>\n",
       "    </tr>\n",
       "    <tr>\n",
       "      <th>2</th>\n",
       "      <td>409Wp</td>\n",
       "      <td>1.022732</td>\n",
       "      <td>0.151990</td>\n",
       "      <td>1.419926</td>\n",
       "      <td>85.265647</td>\n",
       "    </tr>\n",
       "    <tr>\n",
       "      <th>3</th>\n",
       "      <td>iJLyR</td>\n",
       "      <td>-0.032172</td>\n",
       "      <td>0.139033</td>\n",
       "      <td>2.978566</td>\n",
       "      <td>168.620776</td>\n",
       "    </tr>\n",
       "    <tr>\n",
       "      <th>4</th>\n",
       "      <td>Xdl7t</td>\n",
       "      <td>1.988431</td>\n",
       "      <td>0.155413</td>\n",
       "      <td>4.751769</td>\n",
       "      <td>154.036647</td>\n",
       "    </tr>\n",
       "  </tbody>\n",
       "</table>\n",
       "</div>"
      ],
      "text/plain": [
       "      id        f0        f1        f2     product\n",
       "0  txEyH  0.705745 -0.497823  1.221170  105.280062\n",
       "1  2acmU  1.334711 -0.340164  4.365080   73.037750\n",
       "2  409Wp  1.022732  0.151990  1.419926   85.265647\n",
       "3  iJLyR -0.032172  0.139033  2.978566  168.620776\n",
       "4  Xdl7t  1.988431  0.155413  4.751769  154.036647"
      ]
     },
     "execution_count": 3,
     "metadata": {},
     "output_type": "execute_result"
    }
   ],
   "source": [
    "# printing the general/summary information and first rows of df_0\n",
    "df_0.info()\n",
    "df_0.head()"
   ]
  },
  {
   "cell_type": "code",
   "execution_count": 4,
   "metadata": {},
   "outputs": [
    {
     "name": "stdout",
     "output_type": "stream",
     "text": [
      "<class 'pandas.core.frame.DataFrame'>\n",
      "RangeIndex: 100000 entries, 0 to 99999\n",
      "Data columns (total 5 columns):\n",
      " #   Column   Non-Null Count   Dtype  \n",
      "---  ------   --------------   -----  \n",
      " 0   id       100000 non-null  object \n",
      " 1   f0       100000 non-null  float64\n",
      " 2   f1       100000 non-null  float64\n",
      " 3   f2       100000 non-null  float64\n",
      " 4   product  100000 non-null  float64\n",
      "dtypes: float64(4), object(1)\n",
      "memory usage: 3.8+ MB\n"
     ]
    },
    {
     "data": {
      "text/html": [
       "<div>\n",
       "<style scoped>\n",
       "    .dataframe tbody tr th:only-of-type {\n",
       "        vertical-align: middle;\n",
       "    }\n",
       "\n",
       "    .dataframe tbody tr th {\n",
       "        vertical-align: top;\n",
       "    }\n",
       "\n",
       "    .dataframe thead th {\n",
       "        text-align: right;\n",
       "    }\n",
       "</style>\n",
       "<table border=\"1\" class=\"dataframe\">\n",
       "  <thead>\n",
       "    <tr style=\"text-align: right;\">\n",
       "      <th></th>\n",
       "      <th>id</th>\n",
       "      <th>f0</th>\n",
       "      <th>f1</th>\n",
       "      <th>f2</th>\n",
       "      <th>product</th>\n",
       "    </tr>\n",
       "  </thead>\n",
       "  <tbody>\n",
       "    <tr>\n",
       "      <th>0</th>\n",
       "      <td>kBEdx</td>\n",
       "      <td>-15.001348</td>\n",
       "      <td>-8.276000</td>\n",
       "      <td>-0.005876</td>\n",
       "      <td>3.179103</td>\n",
       "    </tr>\n",
       "    <tr>\n",
       "      <th>1</th>\n",
       "      <td>62mP7</td>\n",
       "      <td>14.272088</td>\n",
       "      <td>-3.475083</td>\n",
       "      <td>0.999183</td>\n",
       "      <td>26.953261</td>\n",
       "    </tr>\n",
       "    <tr>\n",
       "      <th>2</th>\n",
       "      <td>vyE1P</td>\n",
       "      <td>6.263187</td>\n",
       "      <td>-5.948386</td>\n",
       "      <td>5.001160</td>\n",
       "      <td>134.766305</td>\n",
       "    </tr>\n",
       "    <tr>\n",
       "      <th>3</th>\n",
       "      <td>KcrkZ</td>\n",
       "      <td>-13.081196</td>\n",
       "      <td>-11.506057</td>\n",
       "      <td>4.999415</td>\n",
       "      <td>137.945408</td>\n",
       "    </tr>\n",
       "    <tr>\n",
       "      <th>4</th>\n",
       "      <td>AHL4O</td>\n",
       "      <td>12.702195</td>\n",
       "      <td>-8.147433</td>\n",
       "      <td>5.004363</td>\n",
       "      <td>134.766305</td>\n",
       "    </tr>\n",
       "  </tbody>\n",
       "</table>\n",
       "</div>"
      ],
      "text/plain": [
       "      id         f0         f1        f2     product\n",
       "0  kBEdx -15.001348  -8.276000 -0.005876    3.179103\n",
       "1  62mP7  14.272088  -3.475083  0.999183   26.953261\n",
       "2  vyE1P   6.263187  -5.948386  5.001160  134.766305\n",
       "3  KcrkZ -13.081196 -11.506057  4.999415  137.945408\n",
       "4  AHL4O  12.702195  -8.147433  5.004363  134.766305"
      ]
     },
     "execution_count": 4,
     "metadata": {},
     "output_type": "execute_result"
    }
   ],
   "source": [
    "# printing the general/summary information and first rows of df_1\n",
    "df_1.info()\n",
    "df_1.head()"
   ]
  },
  {
   "cell_type": "code",
   "execution_count": 5,
   "metadata": {},
   "outputs": [
    {
     "name": "stdout",
     "output_type": "stream",
     "text": [
      "<class 'pandas.core.frame.DataFrame'>\n",
      "RangeIndex: 100000 entries, 0 to 99999\n",
      "Data columns (total 5 columns):\n",
      " #   Column   Non-Null Count   Dtype  \n",
      "---  ------   --------------   -----  \n",
      " 0   id       100000 non-null  object \n",
      " 1   f0       100000 non-null  float64\n",
      " 2   f1       100000 non-null  float64\n",
      " 3   f2       100000 non-null  float64\n",
      " 4   product  100000 non-null  float64\n",
      "dtypes: float64(4), object(1)\n",
      "memory usage: 3.8+ MB\n"
     ]
    },
    {
     "data": {
      "text/html": [
       "<div>\n",
       "<style scoped>\n",
       "    .dataframe tbody tr th:only-of-type {\n",
       "        vertical-align: middle;\n",
       "    }\n",
       "\n",
       "    .dataframe tbody tr th {\n",
       "        vertical-align: top;\n",
       "    }\n",
       "\n",
       "    .dataframe thead th {\n",
       "        text-align: right;\n",
       "    }\n",
       "</style>\n",
       "<table border=\"1\" class=\"dataframe\">\n",
       "  <thead>\n",
       "    <tr style=\"text-align: right;\">\n",
       "      <th></th>\n",
       "      <th>id</th>\n",
       "      <th>f0</th>\n",
       "      <th>f1</th>\n",
       "      <th>f2</th>\n",
       "      <th>product</th>\n",
       "    </tr>\n",
       "  </thead>\n",
       "  <tbody>\n",
       "    <tr>\n",
       "      <th>0</th>\n",
       "      <td>fwXo0</td>\n",
       "      <td>-1.146987</td>\n",
       "      <td>0.963328</td>\n",
       "      <td>-0.828965</td>\n",
       "      <td>27.758673</td>\n",
       "    </tr>\n",
       "    <tr>\n",
       "      <th>1</th>\n",
       "      <td>WJtFt</td>\n",
       "      <td>0.262778</td>\n",
       "      <td>0.269839</td>\n",
       "      <td>-2.530187</td>\n",
       "      <td>56.069697</td>\n",
       "    </tr>\n",
       "    <tr>\n",
       "      <th>2</th>\n",
       "      <td>ovLUW</td>\n",
       "      <td>0.194587</td>\n",
       "      <td>0.289035</td>\n",
       "      <td>-5.586433</td>\n",
       "      <td>62.871910</td>\n",
       "    </tr>\n",
       "    <tr>\n",
       "      <th>3</th>\n",
       "      <td>q6cA6</td>\n",
       "      <td>2.236060</td>\n",
       "      <td>-0.553760</td>\n",
       "      <td>0.930038</td>\n",
       "      <td>114.572842</td>\n",
       "    </tr>\n",
       "    <tr>\n",
       "      <th>4</th>\n",
       "      <td>WPMUX</td>\n",
       "      <td>-0.515993</td>\n",
       "      <td>1.716266</td>\n",
       "      <td>5.899011</td>\n",
       "      <td>149.600746</td>\n",
       "    </tr>\n",
       "  </tbody>\n",
       "</table>\n",
       "</div>"
      ],
      "text/plain": [
       "      id        f0        f1        f2     product\n",
       "0  fwXo0 -1.146987  0.963328 -0.828965   27.758673\n",
       "1  WJtFt  0.262778  0.269839 -2.530187   56.069697\n",
       "2  ovLUW  0.194587  0.289035 -5.586433   62.871910\n",
       "3  q6cA6  2.236060 -0.553760  0.930038  114.572842\n",
       "4  WPMUX -0.515993  1.716266  5.899011  149.600746"
      ]
     },
     "execution_count": 5,
     "metadata": {},
     "output_type": "execute_result"
    }
   ],
   "source": [
    "# printing the general/summary information and first rows of df_2\n",
    "df_2.info()\n",
    "df_2.head()"
   ]
  },
  {
   "cell_type": "markdown",
   "metadata": {},
   "source": [
    "So, we have data about geological exploration of three regions. Columns are the same for all three datasets:\n",
    "- `id` — oil well unique identifier\n",
    "- `f0, f1, f2` — three characteristics (their specific meaning is not important, but the values themselves are significant)\n",
    "- `product` — reserves volume in the oil well (thousands of barrels)."
   ]
  },
  {
   "cell_type": "code",
   "execution_count": 6,
   "metadata": {},
   "outputs": [
    {
     "name": "stdout",
     "output_type": "stream",
     "text": [
      "Duplicated rows in region 0: 0\n",
      "Duplicated rows in region 1: 0\n",
      "Duplicated rows in region 2: 0\n"
     ]
    }
   ],
   "source": [
    "# checking for any duplicated rows\n",
    "df_all = [df_0, df_1, df_2]\n",
    "i=0\n",
    "for df in df_all:\n",
    "    print('Duplicated rows in region {}: {}'.format(i, df.duplicated().sum()))\n",
    "    i+=1"
   ]
  },
  {
   "cell_type": "markdown",
   "metadata": {},
   "source": [
    "So, df_0, df_1, df_2 are 100000 rows and 5 columns dataframes with no null values and no duplicated rows. Types of columns is coherent with their info."
   ]
  },
  {
   "cell_type": "markdown",
   "metadata": {},
   "source": [
    "Let's see the number of unique values for every column of each region:"
   ]
  },
  {
   "cell_type": "code",
   "execution_count": 7,
   "metadata": {},
   "outputs": [
    {
     "data": {
      "text/html": [
       "<div>\n",
       "<style scoped>\n",
       "    .dataframe tbody tr th:only-of-type {\n",
       "        vertical-align: middle;\n",
       "    }\n",
       "\n",
       "    .dataframe tbody tr th {\n",
       "        vertical-align: top;\n",
       "    }\n",
       "\n",
       "    .dataframe thead th {\n",
       "        text-align: right;\n",
       "    }\n",
       "</style>\n",
       "<table border=\"1\" class=\"dataframe\">\n",
       "  <thead>\n",
       "    <tr style=\"text-align: right;\">\n",
       "      <th></th>\n",
       "      <th>region</th>\n",
       "      <th>id</th>\n",
       "      <th>F0</th>\n",
       "      <th>F1</th>\n",
       "      <th>F2</th>\n",
       "      <th>product</th>\n",
       "    </tr>\n",
       "  </thead>\n",
       "  <tbody>\n",
       "    <tr>\n",
       "      <th>0</th>\n",
       "      <td>0</td>\n",
       "      <td>99990</td>\n",
       "      <td>100000</td>\n",
       "      <td>100000</td>\n",
       "      <td>100000</td>\n",
       "      <td>100000</td>\n",
       "    </tr>\n",
       "    <tr>\n",
       "      <th>1</th>\n",
       "      <td>1</td>\n",
       "      <td>99996</td>\n",
       "      <td>100000</td>\n",
       "      <td>100000</td>\n",
       "      <td>100000</td>\n",
       "      <td>12</td>\n",
       "    </tr>\n",
       "    <tr>\n",
       "      <th>2</th>\n",
       "      <td>2</td>\n",
       "      <td>99996</td>\n",
       "      <td>100000</td>\n",
       "      <td>100000</td>\n",
       "      <td>100000</td>\n",
       "      <td>100000</td>\n",
       "    </tr>\n",
       "  </tbody>\n",
       "</table>\n",
       "</div>"
      ],
      "text/plain": [
       "  region     id      F0      F1      F2 product\n",
       "0      0  99990  100000  100000  100000  100000\n",
       "1      1  99996  100000  100000  100000      12\n",
       "2      2  99996  100000  100000  100000  100000"
      ]
     },
     "execution_count": 7,
     "metadata": {},
     "output_type": "execute_result"
    }
   ],
   "source": [
    "unique = pd.DataFrame(columns=['region', 'id', 'F0', 'F1', 'F2', 'product'])\n",
    "i=0\n",
    "\n",
    "for df in df_all:\n",
    "    new_row = {'region': i, 'id': df['id'].nunique(), 'F0': df['f0'].nunique(), 'F1': df['f1'].nunique(), 'F2': df['f2'].nunique(), 'product': df['product'].nunique()}\n",
    "    unique = pd.concat([unique,pd.DataFrame([new_row])], ignore_index=True)\n",
    "    i+=1\n",
    "unique"
   ]
  },
  {
   "cell_type": "markdown",
   "metadata": {},
   "source": [
    "So, there is a clear outsider. The region 1 has only 12 unique product. This could affect the quality of the trained model. We'll see it later !"
   ]
  },
  {
   "cell_type": "markdown",
   "metadata": {},
   "source": [
    "### 1.2 Graphical data exploration <a id='1.2'></a>"
   ]
  },
  {
   "cell_type": "markdown",
   "metadata": {},
   "source": [
    "Lets see what feature has more \"weight\" on the target, in our case the variable \"Product\". So we use a correlation matrix to do it:"
   ]
  },
  {
   "cell_type": "code",
   "execution_count": 8,
   "metadata": {},
   "outputs": [
    {
     "data": {
      "image/png": "[encoded data removed]",
      "text/plain": [
       "<Figure size 600x350 with 2 Axes>"
      ]
     },
     "metadata": {},
     "output_type": "display_data"
    }
   ],
   "source": [
    "# correlation matrix for region 0\n",
    "plt.figure(figsize = (6,3.5))\n",
    "df0_corr = df_0.drop('id', axis='columns')\n",
    "sns.heatmap(df0_corr.corr(), annot = True, cmap = 'summer')\n",
    "plt.title('Heatmap Correlation for Region 0')\n",
    "plt.show()"
   ]
  },
  {
   "cell_type": "markdown",
   "metadata": {},
   "source": [
    "We see that there is a strong correlation between f2 and product"
   ]
  },
  {
   "cell_type": "code",
   "execution_count": 9,
   "metadata": {},
   "outputs": [
    {
     "data": {
      "image/png": "[encoded data removed]",
      "text/plain": [
       "<Figure size 600x350 with 2 Axes>"
      ]
     },
     "metadata": {},
     "output_type": "display_data"
    }
   ],
   "source": [
    "# correlation matrix for region 1\n",
    "plt.figure(figsize = (6,3.5))\n",
    "df1_corr = df_1.drop('id', axis='columns')\n",
    "sns.heatmap(df1_corr.corr(), annot = True, cmap = 'summer')\n",
    "plt.title('Heatmap Correlation for Region 1')\n",
    "plt.show()"
   ]
  },
  {
   "cell_type": "markdown",
   "metadata": {},
   "source": [
    "For region 1, the correlation between f2 and product is definitive and they are directly proportional."
   ]
  },
  {
   "cell_type": "code",
   "execution_count": 10,
   "metadata": {},
   "outputs": [
    {
     "data": {
      "image/png": "[encoded data removed]",
      "text/plain": [
       "<Figure size 600x350 with 2 Axes>"
      ]
     },
     "metadata": {},
     "output_type": "display_data"
    }
   ],
   "source": [
    "# correlation matrix for region 2\n",
    "plt.figure(figsize = (6,3.5))\n",
    "df2_corr = df_2.drop('id', axis='columns')\n",
    "sns.heatmap(df2_corr.corr(), annot = True, cmap = 'summer')\n",
    "plt.title('Heatmap Correlation for Region 2')\n",
    "plt.show()"
   ]
  },
  {
   "cell_type": "markdown",
   "metadata": {},
   "source": [
    "Region 2 is similar, by correlation, to region 0"
   ]
  },
  {
   "cell_type": "markdown",
   "metadata": {},
   "source": [
    "Let's see now the distribution of 'product' for each region:"
   ]
  },
  {
   "cell_type": "code",
   "execution_count": 11,
   "metadata": {},
   "outputs": [
    {
     "data": {
      "image/png": "[encoded data removed]",
      "text/plain": [
       "<Figure size 1400x500 with 3 Axes>"
      ]
     },
     "metadata": {},
     "output_type": "display_data"
    }
   ],
   "source": [
    "fig, ax = plt.subplots(figsize=(14,5), nrows=1, ncols=3, edgecolor = 'black')\n",
    "i=0\n",
    "\n",
    "for df in df_all:\n",
    "    ax[i].hist(df['product'], edgecolor = 'black')\n",
    "    ax[i].set_title('Region {}'.format(i))\n",
    "    ax[i].set_xlabel('Thousand of barrels')\n",
    "    ax[i].grid(True)\n",
    "    i+=1\n",
    "\n",
    "plt.show()"
   ]
  },
  {
   "cell_type": "markdown",
   "metadata": {},
   "source": [
    "Region 0 and region 2 have normal distibution. Region 1 doesn't."
   ]
  },
  {
   "cell_type": "markdown",
   "metadata": {},
   "source": [
    "## Stage 2. Data preprocessing <a id='2'></a>"
   ]
  },
  {
   "cell_type": "markdown",
   "metadata": {},
   "source": [
    "We saw before that there are some duplicated values in 'id' column of each region. Having 99990 unique values in 'id' means that there are 10 duplicated values. We have to drop them:"
   ]
  },
  {
   "cell_type": "code",
   "execution_count": 12,
   "metadata": {},
   "outputs": [],
   "source": [
    "# dropping duplicated values in id column in df_0, df_1 and df_2\n",
    "for df in df_all:\n",
    "    df = df.drop_duplicates(subset=['id'], keep='first')"
   ]
  },
  {
   "attachments": {},
   "cell_type": "markdown",
   "metadata": {},
   "source": [
    "The attribute 'first' means that we drop duplicates except for the first occurrence."
   ]
  },
  {
   "cell_type": "markdown",
   "metadata": {},
   "source": [
    "## Stage 3. Model training <a id='3'></a>"
   ]
  },
  {
   "cell_type": "markdown",
   "metadata": {},
   "source": [
    "As stated before, we want to build a model that predicts the reserve volume of new wells. Since our target is numerical, we have a regression task and more precisely a linear regression. "
   ]
  },
  {
   "cell_type": "markdown",
   "metadata": {},
   "source": [
    "The process in this case will be iterative through the three regions. What we do is:\n",
    "- initialize the lists for features_train, features_valid etc.\n",
    "- define a random state\n",
    "- initialize a dataframe with specific columns\n",
    "\n",
    "At every iteration, we append the new features_train, features_valid etc. to the list, we train the model, use it to make predictions and append them to a list. Finally we print our initialized table filled row by row for each region."
   ]
  },
  {
   "cell_type": "code",
   "execution_count": 13,
   "metadata": {},
   "outputs": [
    {
     "data": {
      "text/html": [
       "<div>\n",
       "<style scoped>\n",
       "    .dataframe tbody tr th:only-of-type {\n",
       "        vertical-align: middle;\n",
       "    }\n",
       "\n",
       "    .dataframe tbody tr th {\n",
       "        vertical-align: top;\n",
       "    }\n",
       "\n",
       "    .dataframe thead th {\n",
       "        text-align: right;\n",
       "    }\n",
       "</style>\n",
       "<table border=\"1\" class=\"dataframe\">\n",
       "  <thead>\n",
       "    <tr style=\"text-align: right;\">\n",
       "      <th></th>\n",
       "      <th>region</th>\n",
       "      <th>pred_mean</th>\n",
       "      <th>targ_mean</th>\n",
       "      <th>RMSE</th>\n",
       "    </tr>\n",
       "  </thead>\n",
       "  <tbody>\n",
       "    <tr>\n",
       "      <th>0</th>\n",
       "      <td>0</td>\n",
       "      <td>92.59</td>\n",
       "      <td>92.64</td>\n",
       "      <td>37.58</td>\n",
       "    </tr>\n",
       "    <tr>\n",
       "      <th>1</th>\n",
       "      <td>1</td>\n",
       "      <td>68.77</td>\n",
       "      <td>68.84</td>\n",
       "      <td>0.89</td>\n",
       "    </tr>\n",
       "    <tr>\n",
       "      <th>2</th>\n",
       "      <td>2</td>\n",
       "      <td>95.09</td>\n",
       "      <td>95.08</td>\n",
       "      <td>39.96</td>\n",
       "    </tr>\n",
       "  </tbody>\n",
       "</table>\n",
       "</div>"
      ],
      "text/plain": [
       "  region  pred_mean  targ_mean   RMSE\n",
       "0      0      92.59      92.64  37.58\n",
       "1      1      68.77      68.84   0.89\n",
       "2      2      95.09      95.08  39.96"
      ]
     },
     "execution_count": 13,
     "metadata": {},
     "output_type": "execute_result"
    }
   ],
   "source": [
    "features_train = []\n",
    "features_valid = []\n",
    "target_train = []\n",
    "target_valid = []\n",
    "predictions = []\n",
    "state = np.random.RandomState(12345)\n",
    "table_1 = pd.DataFrame(columns=['region', 'pred_mean', 'targ_mean', 'RMSE'])\n",
    "i=0\n",
    "\n",
    "for df in df_all:\n",
    "    X = df.drop(['id', 'product'], axis=1)\n",
    "    Y = df['product']\n",
    "    X_train, X_valid, Y_train, Y_valid = train_test_split(X, Y, test_size = 0.25, random_state = state)\n",
    "\n",
    "    features_train.append(X_train)\n",
    "    features_valid.append(X_valid)\n",
    "    target_train.append(Y_train)\n",
    "    target_valid.append(Y_valid)\n",
    "\n",
    "    model = LinearRegression()\n",
    "    model.fit(X_train, Y_train)\n",
    "    pred = model.predict(X_valid)\n",
    "    predictions.append(pred)\n",
    "\n",
    "    new_row = {'region': i, 'pred_mean': round(pred.mean(),2), 'targ_mean': round(Y_train.mean(),2), 'RMSE': round(mean_squared_error(Y_valid, pred) ** 0.5,2)}\n",
    "    table_1 = pd.concat([table_1,pd.DataFrame([new_row])], ignore_index=True)\n",
    "    i+=1\n",
    "\n",
    "table_1"
   ]
  },
  {
   "cell_type": "markdown",
   "metadata": {},
   "source": [
    "First thing that jumps into the eyes is that, for all regions, mean predictions are close to mean target. About RMSE, it must be said that the lower it is the better is the model fit. In our case, RMSE is way lower for region 1. This is because region 1 has only 12 unique product."
   ]
  },
  {
   "cell_type": "markdown",
   "metadata": {},
   "source": [
    "## Stage 4. Margin calculation <a id='4'></a>"
   ]
  },
  {
   "cell_type": "markdown",
   "metadata": {},
   "source": [
    "Let's start this calculation assigning the key values:"
   ]
  },
  {
   "cell_type": "code",
   "execution_count": 14,
   "metadata": {},
   "outputs": [],
   "source": [
    "n_of_wells = 200 # 200 best wells chosen for the study\n",
    "budget = 100000000   # 100 millions $ of budget for each region\n",
    "barrel_profit = 4.5 # $\n",
    "product_profit = 4500 # profit for unity of product"
   ]
  },
  {
   "cell_type": "markdown",
   "metadata": {},
   "source": [
    "Now we can easily get the average cost to work an oil well"
   ]
  },
  {
   "cell_type": "code",
   "execution_count": 15,
   "metadata": {},
   "outputs": [
    {
     "name": "stdout",
     "output_type": "stream",
     "text": [
      "500000 $ investment for every well\n"
     ]
    }
   ],
   "source": [
    "cost_well = budget/n_of_wells\n",
    "print(int(cost_well), '$ investment for every well')"
   ]
  },
  {
   "cell_type": "markdown",
   "metadata": {},
   "source": [
    "So, at this point we can get the rough number of barrels that we have to extract to get a margin from a single well"
   ]
  },
  {
   "cell_type": "code",
   "execution_count": 16,
   "metadata": {},
   "outputs": [
    {
     "name": "stdout",
     "output_type": "stream",
     "text": [
      "It takes 111111.11 barrels of oil to make a margin from a single well\n"
     ]
    }
   ],
   "source": [
    "num_barrels = cost_well/barrel_profit\n",
    "print('It takes', round(num_barrels, 2), 'barrels of oil to make a margin from a single well')"
   ]
  },
  {
   "cell_type": "markdown",
   "metadata": {},
   "source": [
    "Since it can't be possible to produce exactly 111111.11 barrels (barrels can only be sold full filled), we can state that 111112 is the number of barrels to extract to get a margin from a single well"
   ]
  },
  {
   "cell_type": "markdown",
   "metadata": {},
   "source": [
    "Let's compare the value obtained with the average volume of reserves for each region:"
   ]
  },
  {
   "cell_type": "code",
   "execution_count": 17,
   "metadata": {},
   "outputs": [
    {
     "name": "stdout",
     "output_type": "stream",
     "text": [
      "The average volume of the oil wells in region 0 is 92.5 thousand barrels \n",
      "The average volume of the oil wells in region 1 is 68.8 thousand barrels \n",
      "The average volume of the oil wells in region 2 is 95.0 thousand barrels \n"
     ]
    }
   ],
   "source": [
    "i=0\n",
    "for df in df_all:    \n",
    "    print('The average volume of the oil wells in region {} is {:.1f} thousand barrels '.format(i, df['product'].mean()))\n",
    "    i+=1"
   ]
  },
  {
   "attachments": {},
   "cell_type": "markdown",
   "metadata": {},
   "source": [
    "So, the average volume of the wells in the regions is far lower than the minumum capacity needed to provide a benefit for the oil company. This means that the large majority of oil wells are not suitable for drilling."
   ]
  },
  {
   "cell_type": "markdown",
   "metadata": {},
   "source": [
    "Let's now write a function to calculate the earnings of the 200 biggest wells of each region:"
   ]
  },
  {
   "cell_type": "code",
   "execution_count": 18,
   "metadata": {},
   "outputs": [],
   "source": [
    "def profit(target, predictions, count):\n",
    "    pred_sorted = pd.Series(predictions).reset_index(drop = True).sort_values(ascending=False)\n",
    "    target_selected = pd.Series(target).iloc[pred_sorted.index].head(count)\n",
    "    \n",
    "    volume = target_selected.sum()\n",
    "    income = volume*product_profit\n",
    "    tot_cost = cost_well*count\n",
    "    margin = income-tot_cost\n",
    "    return margin"
   ]
  },
  {
   "cell_type": "code",
   "execution_count": 19,
   "metadata": {},
   "outputs": [
    {
     "name": "stdout",
     "output_type": "stream",
     "text": [
      "Margin for Region 0: 33.21 million USD\n",
      "Margin for Region 1: 24.15 million USD\n",
      "Margin for Region 2: 25.40 million USD\n"
     ]
    }
   ],
   "source": [
    "for i in range(len(df_all)):\n",
    "    print('Margin for Region {}: {:.2f} million USD'.format(i, profit(target_valid[i], predictions[i], n_of_wells)/10**6))"
   ]
  },
  {
   "cell_type": "markdown",
   "metadata": {},
   "source": [
    "So, region 0 should be the most profitable."
   ]
  },
  {
   "cell_type": "markdown",
   "metadata": {},
   "source": [
    "## Stage 5. Risks and profit calculation <a id='5'></a>"
   ]
  },
  {
   "cell_type": "markdown",
   "metadata": {},
   "source": [
    "To assess the risks and profits for each region, we use the bootstrapping technique with 1000 samples. In this way we'll find the distribution of potential margin."
   ]
  },
  {
   "cell_type": "markdown",
   "metadata": {},
   "source": [
    "We aim to evaluate the average profit, 95% confidence interval and risk of losses for each region."
   ]
  },
  {
   "cell_type": "code",
   "execution_count": 20,
   "metadata": {},
   "outputs": [],
   "source": [
    "def bootstrap(target, prediction):\n",
    "    values = []\n",
    "    target = target.reset_index(drop=True)\n",
    "\n",
    "    for i in range(1000):\n",
    "        target_sample = target.sample(n = 500, replace=True, random_state=state)\n",
    "        pred_sample = prediction[target_sample.index]\n",
    "        values.append(profit(target_sample, pred_sample, n_of_wells))\n",
    "    values = pd.Series(values)\n",
    "\n",
    "    avg = np.round(values.mean()/10**6, 3)\n",
    "    lower = np.round(values.quantile(0.025)/10**6, 3)\n",
    "    upper = np.round(values.quantile(0.975)/10**6, 3)\n",
    "    confidence_interval = (lower, upper)\n",
    "    risk = np.round(((values < 0).sum() / len(values)) * 100, 2)\n",
    "\n",
    "    return avg, lower, upper, confidence_interval, risk"
   ]
  },
  {
   "cell_type": "code",
   "execution_count": 21,
   "metadata": {},
   "outputs": [
    {
     "data": {
      "text/html": [
       "<div>\n",
       "<style scoped>\n",
       "    .dataframe tbody tr th:only-of-type {\n",
       "        vertical-align: middle;\n",
       "    }\n",
       "\n",
       "    .dataframe tbody tr th {\n",
       "        vertical-align: top;\n",
       "    }\n",
       "\n",
       "    .dataframe thead th {\n",
       "        text-align: right;\n",
       "    }\n",
       "</style>\n",
       "<table border=\"1\" class=\"dataframe\">\n",
       "  <thead>\n",
       "    <tr style=\"text-align: right;\">\n",
       "      <th></th>\n",
       "      <th>region</th>\n",
       "      <th>Average profit</th>\n",
       "      <th>2.5% Quant</th>\n",
       "      <th>97.5% Quant</th>\n",
       "      <th>95% Confidence Interval</th>\n",
       "      <th>Risk %</th>\n",
       "    </tr>\n",
       "  </thead>\n",
       "  <tbody>\n",
       "    <tr>\n",
       "      <th>0</th>\n",
       "      <td>0</td>\n",
       "      <td>3.943</td>\n",
       "      <td>-0.695</td>\n",
       "      <td>9.155</td>\n",
       "      <td>(-0.695, 9.155)</td>\n",
       "      <td>6.1</td>\n",
       "    </tr>\n",
       "    <tr>\n",
       "      <th>1</th>\n",
       "      <td>1</td>\n",
       "      <td>4.547</td>\n",
       "      <td>0.611</td>\n",
       "      <td>8.559</td>\n",
       "      <td>(0.611, 8.559)</td>\n",
       "      <td>0.7</td>\n",
       "    </tr>\n",
       "    <tr>\n",
       "      <th>2</th>\n",
       "      <td>2</td>\n",
       "      <td>3.537</td>\n",
       "      <td>-1.627</td>\n",
       "      <td>8.478</td>\n",
       "      <td>(-1.627, 8.478)</td>\n",
       "      <td>7.6</td>\n",
       "    </tr>\n",
       "  </tbody>\n",
       "</table>\n",
       "</div>"
      ],
      "text/plain": [
       "  region  Average profit  2.5% Quant  97.5% Quant 95% Confidence Interval  \\\n",
       "0      0           3.943      -0.695        9.155         (-0.695, 9.155)   \n",
       "1      1           4.547       0.611        8.559          (0.611, 8.559)   \n",
       "2      2           3.537      -1.627        8.478         (-1.627, 8.478)   \n",
       "\n",
       "   Risk %  \n",
       "0     6.1  \n",
       "1     0.7  \n",
       "2     7.6  "
      ]
     },
     "execution_count": 21,
     "metadata": {},
     "output_type": "execute_result"
    }
   ],
   "source": [
    "table_2 = pd.DataFrame(columns=['region', 'Average profit', '2.5% Quant', '97.5% Quant', '95% Confidence Interval', 'Risk %'])\n",
    "i=0\n",
    "\n",
    "for region in range(len(df_all)):\n",
    "    avg, lower, upper, confidence_interval, risk = bootstrap(target_valid[region], predictions[region])\n",
    "\n",
    "    new_row = {'region': i, 'Average profit': avg, '2.5% Quant': lower, '97.5% Quant': upper, '95% Confidence Interval': confidence_interval, 'Risk %': risk}\n",
    "    table_2 = pd.concat([table_2,pd.DataFrame([new_row])], ignore_index=True)\n",
    "    i+=1\n",
    "\n",
    "table_2"
   ]
  },
  {
   "attachments": {},
   "cell_type": "markdown",
   "metadata": {},
   "source": [
    "Values are expressed in million dollars. From what we see, the region with bigger profit and lowest risk is region 1. Is curious the fact that for region 0 and 2 there is a negative lowest quantile."
   ]
  },
  {
   "cell_type": "markdown",
   "metadata": {},
   "source": [
    "## Conclusion <a id='conclusion'></a>"
   ]
  },
  {
   "cell_type": "markdown",
   "metadata": {},
   "source": [
    "We started our project with the aim of creating a model that helps to choose the region with the highest profit. The oil company gave us 3 csv files (each one for a different region) with 100000 observations each."
   ]
  },
  {
   "cell_type": "markdown",
   "metadata": {},
   "source": [
    "As usual the first thing we did was to explore data, graphically as well. First unusual thing we found was that in the 'product' column of df_1 there were only 12 unique values and the correlation between 'f2' and 'product' is maximum. This property is reflected during the model training, when the RMSE of df_1 is way lower than the others."
   ]
  },
  {
   "cell_type": "markdown",
   "metadata": {},
   "source": [
    "We ran a little preprocessing, dropping some duplicated values for 'id' column."
   ]
  },
  {
   "cell_type": "markdown",
   "metadata": {},
   "source": [
    "After that, we used a for loop to iterate through all 3 dataframes, splitting the three dataframes into train set and validation set (75:25). We trained the model and used this to make predictions."
   ]
  },
  {
   "cell_type": "markdown",
   "metadata": {},
   "source": [
    "The earning calculation followed, declaring all the needed variables and making simple calculations until defining a function that computes the marging of every region."
   ]
  },
  {
   "cell_type": "markdown",
   "metadata": {},
   "source": [
    "Finally we used the bootstrapping technique to verify the profit distribution for every region, meaning the lower and upper quantile, the confidence interval and the risk associated."
   ]
  },
  {
   "cell_type": "markdown",
   "metadata": {},
   "source": [
    "We draw the conclusion that region 1 is the most profitable and less risky."
   ]
  }
 ],
 "metadata": {
  "kernelspec": {
   "display_name": "Python 3 (ipykernel)",
   "language": "python",
   "name": "python3"
  },
  "language_info": {
   "codemirror_mode": {
    "name": "ipython",
    "version": 3
   },
   "file_extension": ".py",
   "mimetype": "text/x-python",
   "name": "python",
   "nbconvert_exporter": "python",
   "pygments_lexer": "ipython3",
   "version": "3.10.8"
  },
  "toc": {
   "base_numbering": 1,
   "nav_menu": {},
   "number_sections": true,
   "sideBar": true,
   "skip_h1_title": true,
   "title_cell": "Table of Contents",
   "title_sidebar": "Contents",
   "toc_cell": false,
   "toc_position": {},
   "toc_section_display": true,
   "toc_window_display": false
  }
 },
 "nbformat": 4,
 "nbformat_minor": 2
}
